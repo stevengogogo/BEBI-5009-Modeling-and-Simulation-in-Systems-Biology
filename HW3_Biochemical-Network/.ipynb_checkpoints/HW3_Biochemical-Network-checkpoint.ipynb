{
 "cells": [
  {
   "cell_type": "markdown",
   "metadata": {},
   "source": [
    "# BEBI5009 Homework 3\n",
    "\n",
    "Student: Shao-Ting Chiu\n",
    "\n",
    "Student ID: B03901045\n",
    "\n",
    "Source Code on Github: https://github.com/stevengogogo/BEBI-5009-Mathematical-Biology\n",
    "\n",
    "Reference: B. P.Ingalls, Mathematical Modelling in Systems Biology : An Introduction, vol. 53, no. 9. 2014."
   ]
  },
  {
   "cell_type": "markdown",
   "metadata": {},
   "source": [
    "## Problem 1\n",
    "\n",
    "<img src = \"img/hw3_p1.png\" alt='problem1'>"
   ]
  },
  {
   "cell_type": "markdown",
   "metadata": {},
   "source": [
    "Sol:"
   ]
  },
  {
   "cell_type": "markdown",
   "metadata": {},
   "source": [
    "Set $[P_1]$, $[P_2]$ as the concentration of two free-form ligand binding sites of same protein. The following equations demeonstrate the relation:\n",
    "\n",
    "$$P_1 + X \\leftrightarrow P_1X$$\n",
    "\n",
    "$$P_2 + X \\leftrightarrow P_2X$$\n",
    "\n",
    "where X represents the ligand.\n",
    "Rewrite this equation to mathematical form:\n",
    "\n",
    "$$[P_1X] = [P_1][X]/K_1$$\n",
    "$$[P_2X] = [P_2][X]/K_2$$\n",
    "\n",
    "Where $K_1$ and $K_2$ are the dissociation constants for the two sites. Because both ligand binding sites are located in the same protein, the totoal concentration of ligand binding site $P_1$ is equal to the one of $P_2$\n",
    "\n",
    "$$[P_1] + [P_1X] = [P_2] + [P_2X]$$\n",
    "\n",
    "Then, we want to derive the fractional saturation Y based on the above relations:\n",
    "\n",
    "$$\\begin{align}\n",
    "Y &= \\frac{[P_1X]+[P_2X]}{1([P_1]+[P_2])+1([P_1X]+[P_2X])} \\\\\n",
    "  &= \\frac{[P_1X]+[P_2X]}{([P_1]+[P_1X]) + ([P_2]+[P_2X])} \\\\\n",
    "  &= \\frac{[P_1X]}{2([P_1]+[P_1X])} + \\frac{[P_2X]}{2([P_2]+[P_2X])}\\\\\n",
    "  &= \\frac{[P_1][X]/K_1}{2([P_1]+[P_1][X]/K_1)} + \\frac{[P_2][X]/K_2}{2([P_2]+[P_2][X]/K_2)} \\\\\n",
    "  &= \\frac{[X]/K_1}{2(1+[X]/K_1)} + \\frac{[X]/K_2}{2(1+[X]/K_2)}\n",
    "\\end{align}$$"
   ]
  },
  {
   "cell_type": "code",
   "execution_count": 11,
   "metadata": {},
   "outputs": [
    {
     "data": {
      "image/png": "[encoded data removed]",
      "text/plain": [
       "<Figure size 432x288 with 1 Axes>"
      ]
     },
     "metadata": {},
     "output_type": "display_data"
    }
   ],
   "source": [
    "import matplotlib.pyplot as plt\n",
    "import numpy as np\n",
    "%matplotlib inline\n",
    "\n",
    "def saturation_ratio(x, dissociation_k):\n",
    "    \"\"\"\n",
    "    Calculate the fraction saturation of specify x and dissociaton constant. The relation is derived from two independent ligand binding sites of same protein.\n",
    "    Agrument:\n",
    "                 x: ligand concentration\n",
    "    dissociation k: dissociation constant\n",
    "    \"\"\"\n",
    "    k1, k2 = dissociation_k\n",
    "    \n",
    "    # Calciulate the fraction saturation\n",
    "    y = (x/k1)/(2*(1+(x/k1))) + (x/k2)/(2*(1+(x/k2))) \n",
    "    \n",
    "    return y\n",
    "\n",
    "x = np.linspace(0,100,200)\n",
    "K = [[1,10],[1,20],[1,30],[1,40]]\n",
    "\n",
    "for i in range(len(K)): \n",
    "    plt.plot(x, saturation_ratio(x,K[i]), label= 'K_1='+str(K[i][0])+'; K_2='+str(K[i][1]))\n",
    "plt.title('Binding Curves for the protein with two independent ligand binding sites')\n",
    "plt.legend()\n",
    "plt.xlabel('Ligand concentration')\n",
    "plt.ylabel('Fraction Saturation')\n",
    "plt.show()\n"
   ]
  },
  {
   "cell_type": "markdown",
   "metadata": {},
   "source": [
    "## Problem 2\n",
    "\n",
    "<img src = \"img/hw3_p2.png\" alt='problem2'>"
   ]
  },
  {
   "cell_type": "markdown",
   "metadata": {},
   "source": [
    "Sol:\n",
    "\n",
    "First, write these relations in mathematical equations, and I assume $f(S_1)$ is the allosteric inhibiton function with 1 binding site:\n",
    "\n",
    "$$\\begin{align}\n",
    "\\frac{dS_1}{dt} &= V_1 + V_5 - V_3 \\\\\n",
    "                &= V   + k_5S_2 - k_3S_1\\\\\n",
    "                \\\\\n",
    "\\frac{dS_2}{dt} &= V_2 - V_5 - V_4 \\\\\n",
    "                &= f(S_1) - k_5S_2 - k_4S_2 \\\\\n",
    "                &= \\frac{k_2}{1+s_1/K} - k_5S_2 - k_4S_2\n",
    "\\end{align}$$"
   ]
  },
  {
   "cell_type": "markdown",
   "metadata": {},
   "source": [
    "Simulation:\n",
    "\n",
    "Define the chemical reaction"
   ]
  },
  {
   "cell_type": "code",
   "execution_count": 12,
   "metadata": {},
   "outputs": [],
   "source": [
    "def reaction(agent, t, k):\n",
    "    \"\"\"\n",
    "    Define the differential equations for the network system.\n",
    "    Arguments:\n",
    "            agent: Vector of chemical concentrations. agent= [s1, s2]\n",
    "            t: time\n",
    "            k: rate constants. k= [V, inhibit_k, k2, k3, k4, k5,]\n",
    "    \"\"\"\n",
    "    s1, s2 = agent\n",
    "    v, inh_k, k2, k3, k4, k5 = k\n",
    "    \n",
    "    def f(s1, k2, inh_k):\n",
    "        \"\"\"\n",
    "        Inhibition function f\n",
    "        \"\"\"\n",
    "        return k2 / (1 + s1/inh_k)\n",
    "    \n",
    "    dfdt = [\n",
    "            v + k5*s2 - k3*s1,\n",
    "            f(s1, k2, inh_k) - k5*s2 - k4*s2\n",
    "        ]\n",
    "    \n",
    "    return dfdt"
   ]
  },
  {
   "cell_type": "markdown",
   "metadata": {},
   "source": [
    "Solve the ODE"
   ]
  },
  {
   "cell_type": "code",
   "execution_count": 13,
   "metadata": {},
   "outputs": [],
   "source": [
    "import numpy as np\n",
    "from scipy.integrate import odeint\n",
    "\n",
    "# Initial condition and constants\n",
    "s10, s20 = [3,4]\n",
    "v, inh_k, k2, k3, k4, k5 = 1, 1, 1, 1, 1, 1\n",
    "\n",
    "# Pack up\n",
    "agent0 = [s10, s20]\n",
    "k = [v, inh_k, k2, k3, k4, k5]\n",
    "\n",
    "# Time samples\n",
    "t = np.linspace(0, 100, 200)\n",
    "\n",
    "wsol = odeint(reaction, agent0, t, args=(k,))"
   ]
  },
  {
   "cell_type": "markdown",
   "metadata": {},
   "source": [
    "Plot the results"
   ]
  },
  {
   "cell_type": "code",
   "execution_count": 14,
   "metadata": {},
   "outputs": [
    {
     "data": {
      "text/plain": [
       "[<matplotlib.lines.Line2D at 0x10d77f390>]"
      ]
     },
     "execution_count": 14,
     "metadata": {},
     "output_type": "execute_result"
    },
    {
     "data": {
      "image/png": "[encoded data removed]",
      "text/plain": [
       "<Figure size 432x288 with 1 Axes>"
      ]
     },
     "metadata": {},
     "output_type": "display_data"
    }
   ],
   "source": [
    "plt.plot(wsol[0], wsol[1])"
   ]
  },
  {
   "cell_type": "code",
   "execution_count": null,
   "metadata": {},
   "outputs": [],
   "source": []
  }
 ],
 "metadata": {
  "kernelspec": {
   "display_name": "Python 3",
   "language": "python",
   "name": "python3"
  },
  "language_info": {
   "codemirror_mode": {
    "name": "ipython",
    "version": 3
   },
   "file_extension": ".py",
   "mimetype": "text/x-python",
   "name": "python",
   "nbconvert_exporter": "python",
   "pygments_lexer": "ipython3",
   "version": "3.6.4"
  }
 },
 "nbformat": 4,
 "nbformat_minor": 2
}
