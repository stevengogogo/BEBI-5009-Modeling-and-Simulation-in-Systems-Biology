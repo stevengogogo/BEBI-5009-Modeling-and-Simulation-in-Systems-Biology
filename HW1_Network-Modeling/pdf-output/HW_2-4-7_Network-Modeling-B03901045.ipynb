{
 "cells": [
  {
   "cell_type": "markdown",
   "metadata": {},
   "source": [
    "# BEBI5009 Homework 1\n",
    "\n",
    "\n",
    "#### Student: Shao-Ting Chiu*"
   ]
  },
  {
   "cell_type": "markdown",
   "metadata": {},
   "source": [
    "#### Student ID: B03901045"
   ]
  },
  {
   "cell_type": "markdown",
   "metadata": {},
   "source": [
    "\n",
    "*: b03901045@ntu.edu.tw"
   ]
  },
  {
   "cell_type": "markdown",
   "metadata": {},
   "source": [
    "Source Code on Github: https://github.com/stevengogogo/BEBI-5009-Mathematical-Biology"
   ]
  },
  {
   "cell_type": "markdown",
   "metadata": {},
   "source": [
    "Reference: B. P.Ingalls, Mathematical Modelling in Systems Biology : An Introduction, vol. 53, no. 9. 2014."
   ]
  },
  {
   "cell_type": "markdown",
   "metadata": {},
   "source": [
    "## Problem 1. Network Modelling"
   ]
  },
  {
   "cell_type": "markdown",
   "metadata": {},
   "source": [
    "### a.i) Construct a differential equation model for the network.\n",
    "\n",
    "Sol: \n",
    "\n",
    "According the assumption in a)\n",
    "\n",
    "$$\\frac{d[A]}{dt}=-v_{1}=-k_{1}[A][B]$$\n",
    "\n",
    "$$\\frac{d[B]}{dt}=-v_{1}+v_{2}=-k_{1}[A][B]+k_{2}[D]$$\n",
    "\n",
    "$$\\frac{d[C]}{dt}=v_{1}-v_{3}=k_{1}[A][B]-k_{3}[C] $$\n",
    "\n",
    "$$\\frac{d[D]}{dt}=v_{1}-v_{2}=k_{1}[A][B]-k_{2}[D]$$ \n",
    "\n",
    "$$\\frac{d[E]}{dt}=\\frac{d[F]}{dt}=v_{3}=k_{3}[C] $$"
   ]
  },
  {
   "cell_type": "markdown",
   "metadata": {},
   "source": [
    "Therefore, $-\\frac{d[B]}{dt}=\\frac{d[D]}{dt}$; $-\\frac{d[C]}{dt}-\\frac{d[A]}{dt}=\\frac{d[E]}{dt}=\\frac{d[F]}{dt}$"
   ]
  },
  {
   "cell_type": "markdown",
   "metadata": {},
   "source": [
    "We can observe that $\\frac{d[D]}{dt}$, $\\frac{d[E]}{dt}$, $\\frac{d[F]}{dt}$ are the linear combination of set: [$\\frac{d[A]}{dt},\\frac{d[B]}{dt}, \\frac{d[C]}{dt}$]. Because $-\\frac{d[B]}{dt}=\\frac{d[D]}{dt}$, $[D] = -[B]+c_{0}$, where $c_{0}$ is a constant. This network includes three equations and algebraic equations, and they are"
   ]
  },
  {
   "cell_type": "markdown",
   "metadata": {},
   "source": [
    "$$\\frac{d[A]}{dt}=-v_{1}=-k_{1}[A][B]$$\n",
    "\n",
    "$$\\frac{d[B]}{dt}=v_{1}-v_{2}=k_{1}[A][B]-k_{2}[D]=k_{1}[A][B]-k_{2}(-[B]+c_{0})$$\n",
    "\n",
    "$$\\frac{d[C]}{dt}=v_{1}-v_{3}=k_{1}[A][B]-k_{3}[C]$$"
   ]
  },
  {
   "cell_type": "markdown",
   "metadata": {},
   "source": [
    "### a.ii) Solve the steady state concentration by rate variables and initial concentrations."
   ]
  },
  {
   "cell_type": "markdown",
   "metadata": {},
   "source": [
    "Sol:\n",
    "\n",
    "Under the steady state, all the chemicals will reach the dynamic equibrilium. In other words, the derivative of chemicals in respect of time is zero. Besides, I assume all the rate variables aren't equal to zero.\n",
    "\n",
    "\n",
    "$$-k_{1}[A]^{ss}[B]^{ss}=0 $$\n",
    "$$k_{1}[A]^{ss}[B]^{ss}-k_{2}(-[B]^{ss}+c_{0})=0 $$\n",
    "$$k_{1}[A]^{ss}[B]^{ss}-k_{3}[C]^{ss}=0 $$\n"
   ]
  },
  {
   "cell_type": "markdown",
   "metadata": {},
   "source": [
    "According to the equations above,\n",
    "$$k_{1}[A]^{ss}[B]^{ss}=0$$\n",
    "\n",
    "$$k_{3}[C]^{ss}=k_{1}[A]^{ss}[B]^{ss}=0$$\n",
    "\n",
    "$$k_{2}[B]^{ss}-k_{2}c_{0}=0$$"
   ]
  },
  {
   "cell_type": "markdown",
   "metadata": {},
   "source": [
    "where $c_{0}=[B]_{0}+[D]_{0}$"
   ]
  },
  {
   "cell_type": "markdown",
   "metadata": {},
   "source": [
    "The steady state concentraions are:\n",
    "\n",
    "$$[A]^{ss}=0 $$\n",
    "$$[B]^{ss}=[B]_{t=0}+[D]_{t=0} $$\n",
    "$$[C]^{ss}=0 $$\n",
    "$$[D]^{ss}=\\frac{k_1}{k_2}[A]^{ss}[B]^{ss}=0 $$\n",
    "$$[E]^{ss}=\\int_{0}^{\\infty}[C]_{t}dt+[E]_{t=0} $$\n",
    "$$[F]^{ss}=\\int_{0}^{\\infty}[C]_{t}dt+[F]_{t=0} $$"
   ]
  },
  {
   "cell_type": "markdown",
   "metadata": {},
   "source": [
    "### a.iii) Verify the Result by Simulation"
   ]
  },
  {
   "cell_type": "markdown",
   "metadata": {},
   "source": [
    "Here, I used Scipy ODE solver, odeint which I learned from [Scipy Documentation](https://docs.scipy.org/doc/scipy/reference/generated/scipy.integrate.odeint.html), and [Scipy Cookbook](http://scipy-cookbook.readthedocs.io/items/CoupledSpringMassSystem.html)"
   ]
  },
  {
   "cell_type": "markdown",
   "metadata": {},
   "source": [
    "The following code defines the system of equations (also known as vector field). Note that the time t must be the second argument of the function."
   ]
  },
  {
   "cell_type": "code",
   "execution_count": 11,
   "metadata": {},
   "outputs": [],
   "source": [
    "def reaction(agent, t, k):\n",
    "    \"\"\"\n",
    "    Define the differential equations for the network system.\n",
    "    \n",
    "    Arguments:\n",
    "            agent: vector of the chemical concentrations:\n",
    "                    agent = [a,b,c,d,e,f]\n",
    "                k: vector of rate constants:\n",
    "                    k = [k1, k2, k3]\n",
    "                t: time\n",
    "    \"\"\"\n",
    "    a, b, c, d, e, f = agent\n",
    "    k1, k2, k3 = k\n",
    "    \n",
    "    # Create dfdt = [a', b', c', d', e', f']:\n",
    "    dfdt = [\n",
    "            -1*k1*a*b,\n",
    "            -1*k1*a*b+k2*d,\n",
    "            k1*a*b-k3*c,\n",
    "            k1*a*b-k2*d,\n",
    "            k3*c,\n",
    "            k3*c\n",
    "           ]\n",
    "    \n",
    "    return dfdt"
   ]
  },
  {
   "cell_type": "markdown",
   "metadata": {},
   "source": [
    "Next, here is a script that uses odeint to solve the equations for a given set of parameter values, initial conditions, and time interval."
   ]
  },
  {
   "cell_type": "code",
   "execution_count": 12,
   "metadata": {},
   "outputs": [],
   "source": [
    "# Use ODEINT to solve the differential equations defines by the vector field\n",
    "import numpy as np\n",
    "from scipy.integrate import odeint\n",
    "\n",
    "# Initial condition and rate constants\n",
    "a0, b0, c0, d0, e0, f0 = 1.0, 1.0, 0.5, 0.0, 0.0, 0.0 # Initial condition\n",
    "k1, k2, k3 = 3.0, 1.0, 4.0 # Rate constants\n",
    "\n",
    "# Pack up the parameters and initial conditions:\n",
    "agent0 = [a0, b0, c0, d0, e0, f0]\n",
    "k = [k1, k2, k3]\n",
    "\n",
    "# ODE solver parameters\n",
    "abserr = 1.0e-8\n",
    "relerr = 1.0e-6\n",
    "stoptime = 10.0\n",
    "numpoints = 500\n",
    "\n",
    "# Create the time samples for the output of the ODE solver.\n",
    "t = np.linspace(0, stoptime, numpoints)\n",
    "\n",
    "# Call the ODE solver \n",
    "wsol = odeint(reaction, agent0, t, args=(k,), atol=abserr, rtol=relerr)"
   ]
  },
  {
   "cell_type": "code",
   "execution_count": 13,
   "metadata": {},
   "outputs": [
    {
     "data": {
      "text/plain": [
       "(500, 6)"
      ]
     },
     "execution_count": 13,
     "metadata": {},
     "output_type": "execute_result"
    }
   ],
   "source": [
    "# Check the shape of wsol (numpoints, chemicals)\n",
    "wsol.shape"
   ]
  },
  {
   "cell_type": "markdown",
   "metadata": {},
   "source": [
    "Print out the steady-state concentrations of network systmem"
   ]
  },
  {
   "cell_type": "code",
   "execution_count": 14,
   "metadata": {},
   "outputs": [
    {
     "name": "stdout",
     "output_type": "stream",
     "text": [
      "Steady-state concentration\n",
      "[A] :  0.0 \tmM\n",
      "[B] :  1.0 \tmM\n",
      "[C] :  0.0 \tmM\n",
      "[D] :  0.0 \tmM\n",
      "[E] :  1.5 \tmM\n",
      "[F] :  1.5 \tmM\n"
     ]
    }
   ],
   "source": [
    "label = [r'[A]',r'[B]',r'[C]',r'[D]',r'[E]',r'[F]']\n",
    "\n",
    "# Print out Steady-state concentrations\n",
    "print('Steady-state concentration')\n",
    "for i in range(wsol.shape[1]):\n",
    "    print(label[i],': ',round(wsol[-1,i], 2),'\\tmM')\n",
    "    "
   ]
  },
  {
   "cell_type": "markdown",
   "metadata": {},
   "source": [
    "The following script uses Matplotlib to plot the solution generated by the above script."
   ]
  },
  {
   "cell_type": "code",
   "execution_count": 15,
   "metadata": {},
   "outputs": [
    {
     "data": {
      "text/plain": [
       "Text(0,0.5,'Concentration(mM)')"
      ]
     },
     "execution_count": 15,
     "metadata": {},
     "output_type": "execute_result"
    },
    {
     "data": {
      "image/png": "[encoded data removed]",
      "text/plain": [
       "<matplotlib.figure.Figure at 0x112401240>"
      ]
     },
     "metadata": {},
     "output_type": "display_data"
    }
   ],
   "source": [
    "import matplotlib.pyplot as plt\n",
    "\n",
    "fig_reaction = plt.figure()\n",
    "\n",
    "for i in range(wsol.shape[1]):\n",
    "    plt.plot(t,wsol[:,i], label=label[i])\n",
    "\n",
    "plt.legend()\n",
    "plt.grid()\n",
    "plt.title('Reaction of Network System')\n",
    "plt.xlabel('time (second)')\n",
    "plt.ylabel('Concentration(mM)')"
   ]
  },
  {
   "cell_type": "markdown",
   "metadata": {},
   "source": [
    "According to the results, $[A]^{ss}=[C]^{ss}=[D]^{ss}=0$, $[B]^{ss}=[B]_0+[D]_0=1+0$, $[E]^{ss}=[F]^{ss}=1.5mM$ which mutually support the calculation in a.ii). Besides, the solver even told us the value of  $[E]^{ss}$ and $[F]^{ss}$.\n",
    "In conclusion, the simulation support the paper-and-pancil calculation of a.i), and a.ii). "
   ]
  },
  {
   "cell_type": "markdown",
   "metadata": {},
   "source": [
    "## Problem 2. Numerical methid: Fourth-order Runge Kutta Method (RK4)\n",
    "\n",
    "SAMPLE CODE: https://github.com/SosirisTseng/BEBI-5009/tree/master/ch2"
   ]
  },
  {
   "cell_type": "markdown",
   "metadata": {},
   "source": [
    "Sol:"
   ]
  },
  {
   "cell_type": "markdown",
   "metadata": {},
   "source": [
    "### 2.1 Analytical Solution\n",
    "\n",
    "$\\frac{da(t)}{dt}=-a(t)$ is an autonomous equation. It can be solved by \"integral-by-part\" method:\n",
    "\n",
    "$$\\begin{equation*}\n",
    "    \\frac{da(t)}{dt} = -a(a) \\\\\n",
    "    \\frac{-1}{a(t)}da(t) = dt \\\\\n",
    "    \\int\\frac{-1}{a(t)}da(t) = \\int dt \\\\\n",
    "    -ln(a(t)) = t + c_{0} \\\\\n",
    "    a(t) = c_{1}e^{-t} \\\\\n",
    "\\end{equation*}$$\n",
    "\n",
    "where $c_{0}$ and $c_{1}$ are constants.\n",
    "\n",
    "With initial condition $a(0)=1$:\n",
    "\n",
    "$$\\begin{align}\n",
    "    a(t)=e^{-t}\n",
    "\\end{align}$$"
   ]
  },
  {
   "cell_type": "markdown",
   "metadata": {},
   "source": [
    "### 2.2 Numerical Solution\n",
    "\n",
    "In the following code, both RK and Euler method are implemented and wrapped inside an object-class. In the beginning, I define the automous ODE in a Python function. "
   ]
  },
  {
   "cell_type": "code",
   "execution_count": 16,
   "metadata": {},
   "outputs": [],
   "source": [
    "def autoODE(a, t):\n",
    "    \"\"\"\n",
    "    Define the differential equations.\n",
    "    \n",
    "    Arguments:\n",
    "            a: variable\n",
    "            t: time\n",
    "    \"\"\"\n",
    "    # Create dfdt = [a']:\n",
    "    dfdt = [\n",
    "            -a\n",
    "           ]\n",
    "    \n",
    "    return dfdt"
   ]
  },
  {
   "cell_type": "markdown",
   "metadata": {},
   "source": [
    "Second, I created an Python class including RK and Euler ODE solver, which provides flexibility for future add-ons."
   ]
  },
  {
   "cell_type": "code",
   "execution_count": 17,
   "metadata": {},
   "outputs": [],
   "source": [
    "class ode_equation:\n",
    "    \"\"\"\n",
    "    Class object provide RK estimation for ODE equation\n",
    "    \n",
    "    Functions:\n",
    "        __init__\n",
    "        iteration\n",
    "        rk_step\n",
    "        k\n",
    "        euler_step\n",
    "    \"\"\"\n",
    "    def __init__(self, equation):\n",
    "        \"\"\"\n",
    "        f(a) = da/dt\n",
    "        \"\"\"\n",
    "        self.equation = equation # Store the ODE function\n",
    "        \n",
    "    def iteration(self, init=1, start=0, end=4, h=1/3.0, method='rk'):\n",
    "        \"\"\"\n",
    "        Using iteration process to simulate the ODE equation\n",
    "        \n",
    "        Arguments:\n",
    "                init: initial value, a(0)\n",
    "                start: start time\n",
    "                end: end time\n",
    "                h: step size\n",
    "        \"\"\"\n",
    "        \n",
    "        # Set time step and to store iteration process\n",
    "        # h_r is the real step. Approximately equal to h\n",
    "        self.t, h_r = np.linspace(start, end, int((end-start)/h), retstep=True)\n",
    "        self.a = [] \n",
    "        \n",
    "        # Set initial value\n",
    "        self.a.append(init)\n",
    "        \n",
    "        # Iteration process \n",
    "        for i, time in enumerate(self.t[1:]):\n",
    "            \n",
    "            if method == 'rk':\n",
    "                a_next = self.a[i] + self.rk_step(self.a[i], time, h_r)\n",
    "                \n",
    "            elif method == 'euler':\n",
    "                a_next = self.a[i] + self.euler_step(self.a[i], time, h_r)\n",
    "                \n",
    "            else:\n",
    "                raise ValueError('This class only provides rk and euler Method')\n",
    "                \n",
    "            self.a.append(a_next) # Add current step\n",
    "            \n",
    "        return self.a, self.t, h_r\n",
    "            \n",
    "        \n",
    "        \n",
    "    def rk_step(self, a, t, h):\n",
    "        \"\"\"\n",
    "        Return one step difference by Rung-Kutta Method.\n",
    "        \n",
    "        Arguments:\n",
    "                a: a(t) value\n",
    "                t: current time\n",
    "                h: step size\n",
    "        \"\"\"\n",
    "        k0, k1, k2, k3 = self.k(a, t, h)\n",
    "        return (1/6.0)*( k0 + 2*k1 + 2*k2 + k3 )\n",
    "    \n",
    "    def k(self, a, t, h):\n",
    "        \"\"\"\n",
    "        Calculate k of 3 order \n",
    "        \n",
    "        Arguments:\n",
    "                a: value at a(t)\n",
    "                t: time\n",
    "                h: step size\n",
    "        \"\"\"\n",
    "        \n",
    "        k0 = h*self.equation(a, t)[0]\n",
    "        k1 = h*self.equation(a + k0/2.0, t + h/2.0)[0]\n",
    "        k2 = h*self.equation(a + k1/2.0, t + h/2.0)[0]\n",
    "        k3 = h*self.equation(a + k2, t + h)[0]\n",
    "        \n",
    "        return [k0, k1, k2, k3]\n",
    "    \n",
    "    def euler_step(self, a, t, h):\n",
    "        \"\"\"\n",
    "        Return one step difference by Euler Method.\n",
    "        \n",
    "        Arguments:\n",
    "                a: a(t) value\n",
    "                t: current time\n",
    "                h: step size\n",
    "        \"\"\"\n",
    "        return h*self.equation(a,t)[0]"
   ]
  },
  {
   "cell_type": "markdown",
   "metadata": {},
   "source": [
    "Then, create a ode solver which has defined above, and input parameters given in the question."
   ]
  },
  {
   "cell_type": "code",
   "execution_count": 18,
   "metadata": {},
   "outputs": [],
   "source": [
    "import numpy as np\n",
    "\n",
    "# Set the ODE equation\n",
    "ode = ode_equation(autoODE)\n",
    "\n",
    "# Analytical Solution\n",
    "t_ana = np.linspace(0, 4, int((4-0)/(1/3.0)))\n",
    "a_ana = np.exp(-t_ana)\n",
    "\n",
    "# Approximate by RK \n",
    "a1, t1, h1 = ode.iteration(init=1, start=0, end=4, h=1/3.0, method='rk')\n",
    "a2, t2, h2 = ode.iteration(init=1, start=0, end=4, h=2/3.0, method='rk')\n",
    "\n",
    "# Approximate by Euler\n",
    "a1e, t1e, h1e = ode.iteration(init=1, start=0, end=4, h=1/3.0, method='euler')\n",
    "a2e, t2e, h2e = ode.iteration(init=1, start=0, end=4, h=2/3.0, method='euler')"
   ]
  },
  {
   "cell_type": "markdown",
   "metadata": {},
   "source": [
    "The following script uses [Matplotlib](https://matplotlib.org/tutorials/index.html) to plot the results generated by the above ode solver. Besides, I used $\\TeX$ inside the plot. ([tutorial](https://matplotlib.org/users/usetex.html))\n",
    "\n",
    "Besides, analytical solution was also plotted together as comparison."
   ]
  },
  {
   "cell_type": "code",
   "execution_count": 19,
   "metadata": {},
   "outputs": [
    {
     "data": {
      "text/plain": [
       "Text(0,0.5,'a(t)')"
      ]
     },
     "execution_count": 19,
     "metadata": {},
     "output_type": "execute_result"
    },
    {
     "data": {
      "image/png": "[encoded data removed]",
      "text/plain": [
       "<matplotlib.figure.Figure at 0x112225128>"
      ]
     },
     "metadata": {},
     "output_type": "display_data"
    }
   ],
   "source": [
    "import matplotlib.pyplot as plt\n",
    "%matplotlib inline\n",
    "\n",
    "# To use latex format\n",
    "from matplotlib import rc\n",
    "rc('text', usetex=True)\n",
    "\n",
    "# Create a figure\n",
    "plt.figure()\n",
    "#fig_rk = plt.figure(num=None, figsize=(8, 6), dpi=80, facecolor='w', edgecolor='k')\n",
    "\n",
    "# Plot Analytical solution\n",
    "plt.plot(t_ana, a_ana, label='Analytical', linestyle='-', color='black')\n",
    "\n",
    "# Plot RK approximation\n",
    "plt.plot(t1, a1, label='RK h='+str(round(h1,2)), linestyle='-.')\n",
    "plt.plot(t2, a2, label='RK h='+str(round(h2,2)), linestyle='-.')\n",
    "\n",
    "# Plot Euler approximation\n",
    "plt.plot(t1e, a1e, label='Euler h='+str(round(h1e,2)), linestyle=':')\n",
    "plt.plot(t2e, a2e, label='Euler h='+str(round(h2e,2)), linestyle=':')\n",
    "\n",
    "plt.legend()\n",
    "plt.grid()\n",
    "plt.title('Automous ODE 'r'$\\displaystyle\\frac{da(t)}{dt}=-a(t)$')\n",
    "plt.xlabel('t')\n",
    "plt.ylabel('a(t)')"
   ]
  },
  {
   "cell_type": "markdown",
   "metadata": {},
   "source": [
    "### 2.3 Conclusion\n",
    "\n",
    "1. According to the results, the RK approximation overestimates the analytical solution\n",
    "\n",
    "2. RK approximation provides better accuracy compared to the Euler method with same step size. \n",
    "\n",
    "3. Unlike RK method, Euler approximation underestimates the analytical solution."
   ]
  }
 ],
 "metadata": {
  "kernelspec": {
   "display_name": "Python 3",
   "language": "python",
   "name": "python3"
  },
  "language_info": {
   "codemirror_mode": {
    "name": "ipython",
    "version": 3
   },
   "file_extension": ".py",
   "mimetype": "text/x-python",
   "name": "python",
   "nbconvert_exporter": "python",
   "pygments_lexer": "ipython3",
   "version": "3.6.4"
  }
 },
 "nbformat": 4,
 "nbformat_minor": 2
}
