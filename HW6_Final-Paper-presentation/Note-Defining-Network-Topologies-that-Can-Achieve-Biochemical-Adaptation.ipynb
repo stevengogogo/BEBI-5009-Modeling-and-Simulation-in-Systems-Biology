{
 "cells": [
  {
   "cell_type": "markdown",
   "metadata": {},
   "source": [
    "# Note for Defining Network Topologies that Can Achieve Biochemical Adaptation\n",
    "Source: [Defining Network Topologies that Can Achieve Biochemical Adaptation](https://www.ncbi.nlm.nih.gov/pubmed/19703401)"
   ]
  },
  {
   "cell_type": "markdown",
   "metadata": {},
   "source": [
    "## Summary\n",
    "\n",
    "1. Problem statement: Many signaling systems show adaptation- the ability to reset themselves after responding to a stimulus. The authors use computational methods to search all possible three-node enzyme network topologies to identify those that could perform adaptation\n",
    "\n",
    "2. Goal\n",
    "    \n",
    "    a. Despite the apparent complexity of cellular netowrks, there might only be a limited number of network topologies that are capable of robustly executing any particular biological function. Some topologies may be more favorable because of fewer parameter constraints.\n",
    "    \n",
    "    b. Organize ever-expanding database of biological networks by functionally classifying key motifs in a network. \n",
    "    \n",
    "    c. Construct a unified function-topology mapping that captures the essential barebonew topologies under pinning the function.\n",
    "    \n",
    "    d. A circuit function-topology map would also be invaluable for synthetic biology, providing a manual for how to robustly engineer biological circuits that carry out a target function.\n",
    "\n",
    "3. Results: only two major core topologies emerge as robust solutions:\n",
    "\n",
    "    a. Negative feedback loop with a buffering node\n",
    "    \n",
    "    b. Incoherent feedforward loop with a proportioner node\n",
    "\n"
   ]
  },
  {
   "cell_type": "markdown",
   "metadata": {},
   "source": [
    "<img src = \"img/fig1.png\" alt='graphical-abstract'> \n",
    "$$Figure 1.$$"
   ]
  },
  {
   "cell_type": "markdown",
   "metadata": {},
   "source": [
    "## What and why is adaptation?\n",
    "\n",
    "1. __What is adaptation__: Adaptation refers to the system's ability to respind to a change in input stimulus then return to its prestimulated output level, even when the change in input persists.\n",
    "\n",
    "2. __Why is adaptation__: \n",
    "    a. Adaptation is commonly used in sensory and other signaling networks to expand the input range that a circuit is able to sense, to more accurately detect changes in the input.\n",
    "    b. To maintain homeostasis in the presence of perturbations."
   ]
  },
  {
   "cell_type": "markdown",
   "metadata": {},
   "source": [
    "## Defining Adaptation \n",
    "See Figure 1.A\n",
    "1. __Sensitivity__: the height of output response relative to the initial steady-state value $$Sensitivity = \\lvert \\frac{(O_{peak}-O_{1})/O_{1}}{(I_2-I_1)/I_1} \\rvert$$\n",
    "\n",
    "2. __Precision__: the inverse of difference between the pre- and poststimulus steady states $$Precision = \\lvert \\frac{(O_{2}-O_{1})/O_{1}}{(I_2-I_1)/I_1} \\rvert^{-1}$$\n"
   ]
  },
  {
   "cell_type": "markdown",
   "metadata": {},
   "source": [
    "## *Think Further: Why are there 16038 graphs?*\n",
    "\n",
    "You may confused with Figure 1.B, and ask why there are 16038 valid graphs. Here is the reason:\n",
    "\n",
    "Problem Setup:\n",
    "\n",
    "1. The directed weighted graph $$G=(V,E)$$ $$V=\\{A,B,C\\}$$ $$E=\\{W_{AA}, W_{AB}, W_{AC}, W_{BA}, W_{BB}, W_{BC}, W_{CA}, W_{CB}, W_{CC}\\}$$ $$W=\\{>0, =0, <0\\}$$ where $V$ IS the vertex set, $E$ is the set of ordered pair and $W_{ij}$ is the weighted edge with direction from vertex i to vertex j.\n",
    "\n",
    "2. A is the input node, and C is the output node.\n",
    "\n",
    "3. Valid graphs: $$G_{Valid}=\\{\\text{There exists at least one path from A to C}\\}$$ where $G_{Valid} \\subset G$\n",
    "\n",
    "Calculation by combination theory:\n",
    "\n",
    "\\begin{align}\n",
    "\\{\\text{Valid Graphs}\\}&= \\text{\\{All Graphs\\}} - \\{A \\text{ not}\\rightarrow C\\} \\\\\n",
    "&= \\text{\\{All Graphs\\}} -( \\{A \\text{ not}\\rightarrow C \\cap A \\rightarrow B \\cap B \\text{ not}\\rightarrow C\\} + \\{A \\text{ not}\\rightarrow C \\cap A \\text{ not}\\rightarrow B \\cap B \\rightarrow C\\} + \\{A \\text{ not}\\rightarrow C \\cap A \\text{ not}\\rightarrow B \\cap B \\text{ not}\\rightarrow C\\}) \\\\\n",
    "&= 3^{9} - 1 \\times 2 \\times 1 \\times 3^{6} - 1 \\times 2 \\times 1 \\times 3^{6} - 1 \\times 1 \\times 1 \\times 3^{6} \\\\\n",
    "&= 16038\n",
    "\\end{align}"
   ]
  },
  {
   "cell_type": "markdown",
   "metadata": {},
   "source": [
    "## Experimental Design\n",
    "\n",
    "1. Each node has a fixed total concentration that can be interconverted between active and inactive form. $$A\\Longleftrightarrow (1-A)$$\n",
    "\n",
    "2. __Assumptions__: the enzyme nodes operate under Michaelis-Mneten Kinetics and that they are noncooperative (Hill coefficient = 1)\n",
    "\n",
    "3. __Define functional network__ (see Figure 1.):\n",
    "\n",
    "    a. Senstivity > 1\n",
    "    \n",
    "    b. Precision > 10 \n",
    "    \n",
    "    c. $I_{1}=0.5$ (nonzero inital input); $I_{2}=0.6$ (20% change)"
   ]
  },
  {
   "cell_type": "markdown",
   "metadata": {},
   "source": [
    "##  Results\n",
    "\n",
    "1. None of two-node networks achieves adaptation"
   ]
  },
  {
   "cell_type": "markdown",
   "metadata": {},
   "source": [
    "<img src = \"img/fig2.png\" alt='results'> \n",
    "$$Figure 2.$$"
   ]
  },
  {
   "cell_type": "code",
   "execution_count": 4,
   "metadata": {},
   "outputs": [],
   "source": [
    "from sympy import *\n",
    "init_printing()\n"
   ]
  },
  {
   "cell_type": "code",
   "execution_count": 5,
   "metadata": {},
   "outputs": [],
   "source": [
    "# Symbols\n",
    "i = symbols('I')\n",
    "kia, Kia, fa, kfa, Kfa = symbols('k_{IA} K_{IA} F_{A} k^{\\'}_{F_{A}A} K^{\\'}_{F_{A}A}')\n",
    "kcb, Kcb, fb, kfb, Kfb= symbols('k_{CB} K_{CB} F_{B} k^{\\'}_{F_{B}B} K^{\\'}_{F_{B}B}')              \n",
    "kac, Kac, kbc, Kbc= symbols('k_{AC} K_{AC} k^{\\'}_{BC} K^{\\'}_{BC}')\n",
    "t = symbols('t')\n",
    "\n",
    "# Function (Nodes)\n",
    "a = Symbol('A')\n",
    "b = Symbol('B')\n",
    "c = Symbol('C')\n",
    "\n",
    "# Equation\n",
    "eqa = Eq(diff(a(t),t), \n",
    "         i * kia(1-a(t))/( (1-a(t)) + Kia) - fa*kfa*(a(t)/(a(t)+Kfa)))\n",
    "eqb = Eq(diff(b(t),t), \n",
    "         c(t) * kcb * (1-b(t))/((1-b(t))+Kcb) - fb * kfb * b(t) / (b(t) + Kfb) )\n",
    "eqc = Eq(diff(c(t),t), \n",
    "         a(t) * kac * (1-c(t))/((1-c(t))+ Kac) - b(t) * kbc * c(t)/ (c(t)+Kbc) ) \n",
    "\n",
    "sys = [eqa, eqb, eqc]"
   ]
  },
  {
   "cell_type": "code",
   "execution_count": 6,
   "metadata": {},
   "outputs": [
    {
     "data": {
      "image/png": "[encoded data removed]",
      "text/latex": [
       "$$\\left [ \\frac{d}{d t} A{\\left (t \\right )} = - \\frac{F_{A} k^{'}_{F_{A}A} A{\\left (t \\right )}}{K^{'}_{F_{A}A} + A{\\left (t \\right )}} + \\frac{I \\operatorname{k_{IA}}{\\left (- A{\\left (t \\right )} + 1 \\right )}}{K_{IA} - A{\\left (t \\right )} + 1}, \\quad \\frac{d}{d t} B{\\left (t \\right )} = - \\frac{F_{B} k^{'}_{F_{B}B} B{\\left (t \\right )}}{K^{'}_{F_{B}B} + B{\\left (t \\right )}} + \\frac{k_{CB} \\left(- B{\\left (t \\right )} + 1\\right) C{\\left (t \\right )}}{K_{CB} - B{\\left (t \\right )} + 1}, \\quad \\frac{d}{d t} C{\\left (t \\right )} = - \\frac{k^{'}_{BC} B{\\left (t \\right )} C{\\left (t \\right )}}{K^{'}_{BC} + C{\\left (t \\right )}} + \\frac{k_{AC} \\left(- C{\\left (t \\right )} + 1\\right) A{\\left (t \\right )}}{K_{AC} - C{\\left (t \\right )} + 1}\\right ]$$"
      ],
      "text/plain": [
       "⎡d            F_{A}⋅k_{F_{A}A}__{'}⋅A(t)   I⋅k_{IA}(-A(t) + 1)  d            F\n",
       "⎢──(A(t)) = - ────────────────────────── + ───────────────────, ──(B(t)) = - ─\n",
       "⎣dt             K_{F_{A}A}__{'} + A(t)      K_{IA} - A(t) + 1   dt            \n",
       "\n",
       "_{B}⋅k_{F_{B}B}__{'}⋅B(t)   k_{CB}⋅(-B(t) + 1)⋅C(t)  d            k_{BC}__{'}⋅\n",
       "───────────────────────── + ───────────────────────, ──(C(t)) = - ────────────\n",
       " K_{F_{B}B}__{'} + B(t)        K_{CB} - B(t) + 1     dt             K_{BC}__{'\n",
       "\n",
       "B(t)⋅C(t)   k_{AC}⋅(-C(t) + 1)⋅A(t)⎤\n",
       "───────── + ───────────────────────⎥\n",
       "} + C(t)       K_{AC} - C(t) + 1   ⎦"
      ]
     },
     "execution_count": 6,
     "metadata": {},
     "output_type": "execute_result"
    }
   ],
   "source": [
    "sys"
   ]
  },
  {
   "cell_type": "code",
   "execution_count": 57,
   "metadata": {},
   "outputs": [
    {
     "data": {
      "image/png": "[encoded data removed]",
      "text/latex": [
       "$$\\left [ 0 = - \\frac{F_{A} k^{'}_{F_{A}A} A{\\left (t \\right )}}{K^{'}_{F_{A}A} + A{\\left (t \\right )}} + \\frac{I \\operatorname{k_{IA}}{\\left (- A{\\left (t \\right )} + 1 \\right )}}{K_{IA} - A{\\left (t \\right )} + 1}, \\quad 0 = - \\frac{F_{B} k^{'}_{F_{B}B} B{\\left (t \\right )}}{K^{'}_{F_{B}B} + B{\\left (t \\right )}} + \\frac{k_{CB} \\left(- B{\\left (t \\right )} + 1\\right) C{\\left (t \\right )}}{K_{CB} - B{\\left (t \\right )} + 1}, \\quad 0 = - \\frac{k^{'}_{BC} B{\\left (t \\right )} C{\\left (t \\right )}}{K^{'}_{BC} + C{\\left (t \\right )}} + \\frac{k_{AC} \\left(- C{\\left (t \\right )} + 1\\right) A{\\left (t \\right )}}{K_{AC} - C{\\left (t \\right )} + 1}\\right ]$$"
      ],
      "text/plain": [
       "⎡      F_{A}⋅k_{F_{A}A}__{'}⋅A(t)   I⋅k_{IA}(-A(t) + 1)        F_{B}⋅k_{F_{B}B\n",
       "⎢0 = - ────────────────────────── + ───────────────────, 0 = - ───────────────\n",
       "⎣        K_{F_{A}A}__{'} + A(t)      K_{IA} - A(t) + 1           K_{F_{B}B}__{\n",
       "\n",
       "}__{'}⋅B(t)   k_{CB}⋅(-B(t) + 1)⋅C(t)        k_{BC}__{'}⋅B(t)⋅C(t)   k_{AC}⋅(-\n",
       "─────────── + ───────────────────────, 0 = - ───────────────────── + ─────────\n",
       "'} + B(t)        K_{CB} - B(t) + 1             K_{BC}__{'} + C(t)       K_{AC}\n",
       "\n",
       "C(t) + 1)⋅A(t)⎤\n",
       "──────────────⎥\n",
       " - C(t) + 1   ⎦"
      ]
     },
     "execution_count": 57,
     "metadata": {},
     "output_type": "execute_result"
    }
   ],
   "source": [
    "seqa = Eq(0, \n",
    "         i * kia(1-a(t))/( (1-a(t)) + Kia) - fa*kfa*(a(t)/(a(t)+Kfa)))\n",
    "seqb = Eq(0, \n",
    "         c(t) * kcb * (1-b(t))/((1-b(t))+Kcb) - fb * kfb * b(t) / (b(t) + Kfb) )\n",
    "seqc = Eq(0, \n",
    "         a(t) * kac * (1-c(t))/((1-c(t))+ Kac) - b(t) * kbc * c(t)/ (c(t)+Kbc) ) \n",
    "sys_steady = [seqa, seqb, seqc]\n",
    "sys_steady"
   ]
  },
  {
   "cell_type": "markdown",
   "metadata": {},
   "source": [
    "[Sympy dsolve](http://josephcslater.github.io/differential_equation_solution_sympy.html)"
   ]
  },
  {
   "cell_type": "code",
   "execution_count": 64,
   "metadata": {},
   "outputs": [
    {
     "data": {
      "image/png": "[encoded data removed]",
      "text/latex": [
       "$$\\left [ \\left \\{ F_{A} : \\frac{I \\left(K^{'}_{F_{A}A} + A{\\left (t \\right )}\\right) \\operatorname{k_{IA}}{\\left (- A{\\left (t \\right )} + 1 \\right )}}{k^{'}_{F_{A}A} \\left(K_{IA} - A{\\left (t \\right )} + 1\\right) A{\\left (t \\right )}}, \\quad F_{B} : \\frac{k_{CB} \\left(K^{'}_{F_{B}B} B{\\left (t \\right )} - K^{'}_{F_{B}B} + B^{2}{\\left (t \\right )} - B{\\left (t \\right )}\\right) C{\\left (t \\right )}}{k^{'}_{F_{B}B} \\left(- K_{CB} + B{\\left (t \\right )} - 1\\right) B{\\left (t \\right )}}, \\quad K^{'}_{BC} : - \\frac{C{\\left (t \\right )}}{k_{AC} \\left(C{\\left (t \\right )} - 1\\right) A{\\left (t \\right )}} \\left(K_{AC} k^{'}_{BC} B{\\left (t \\right )} - k^{'}_{BC} B{\\left (t \\right )} C{\\left (t \\right )} + k^{'}_{BC} B{\\left (t \\right )} + k_{AC} A{\\left (t \\right )} C{\\left (t \\right )} - k_{AC} A{\\left (t \\right )}\\right)\\right \\}\\right ]$$"
      ],
      "text/plain": [
       "⎡⎧                                                                   ⎛        \n",
       "⎢⎪       I⋅(K_{F_{A}A}__{'} + A(t))⋅k_{IA}(-A(t) + 1)         k_{CB}⋅⎝K_{F_{B}\n",
       "⎢⎨F_{A}: ────────────────────────────────────────────, F_{B}: ────────────────\n",
       "⎢⎪         k_{F_{A}A}__{'}⋅(K_{IA} - A(t) + 1)⋅A(t)                        k_{\n",
       "⎣⎩                                                                            \n",
       "\n",
       "                                  2          ⎞                                \n",
       "B}__{'}⋅B(t) - K_{F_{B}B}__{'} + B (t) - B(t)⎠⋅C(t)               -(K_{AC}⋅k_{\n",
       "───────────────────────────────────────────────────, K_{BC}__{'}: ────────────\n",
       "F_{B}B}__{'}⋅(-K_{CB} + B(t) - 1)⋅B(t)                                        \n",
       "                                                                              \n",
       "\n",
       "                                                                              \n",
       "BC}__{'}⋅B(t) - k_{BC}__{'}⋅B(t)⋅C(t) + k_{BC}__{'}⋅B(t) + k_{AC}⋅A(t)⋅C(t) - \n",
       "──────────────────────────────────────────────────────────────────────────────\n",
       "                               k_{AC}⋅(C(t) - 1)⋅A(t)                         \n",
       "                                                                              \n",
       "\n",
       "                  ⎫⎤\n",
       "k_{AC}⋅A(t))⋅C(t) ⎪⎥\n",
       "──────────────────⎬⎥\n",
       "                  ⎪⎥\n",
       "                  ⎭⎦"
      ]
     },
     "execution_count": 64,
     "metadata": {},
     "output_type": "execute_result"
    }
   ],
   "source": [
    "soln = solve((seqa, seqb, seqc))\n",
    "soln"
   ]
  },
  {
   "cell_type": "code",
   "execution_count": null,
   "metadata": {},
   "outputs": [],
   "source": [
    "def system(a,b,c)"
   ]
  }
 ],
 "metadata": {
  "kernelspec": {
   "display_name": "Python 3",
   "language": "python",
   "name": "python3"
  },
  "language_info": {
   "codemirror_mode": {
    "name": "ipython",
    "version": 3
   },
   "file_extension": ".py",
   "mimetype": "text/x-python",
   "name": "python",
   "nbconvert_exporter": "python",
   "pygments_lexer": "ipython3",
   "version": "3.6.4"
  }
 },
 "nbformat": 4,
 "nbformat_minor": 2
}
